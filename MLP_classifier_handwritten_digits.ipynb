{
 "cells": [
  {
   "cell_type": "code",
   "execution_count": 1,
   "metadata": {},
   "outputs": [],
   "source": [
    "from sklearn.model_selection import train_test_split\n",
    "import numpy as np\n",
    "import matplotlib.pyplot as plt\n",
    "from sklearn.neural_network import MLPClassifier\n",
    "from sklearn.decomposition import PCA\n",
    "import time"
   ]
  },
  {
   "cell_type": "code",
   "execution_count": 2,
   "metadata": {},
   "outputs": [
    {
     "name": "stdout",
     "output_type": "stream",
     "text": [
      "X.shape: (70000, 784)\n",
      "y.shape: (70000,)\n"
     ]
    }
   ],
   "source": [
    "X = np.genfromtxt('handwritten_digits_images.csv', delimiter=',')\n",
    "print(\"X.shape: \" + str(X.shape))\n",
    "y = np.genfromtxt('handwritten_digits_labels.csv', delimiter=',')\n",
    "print(\"y.shape: \" + str(y.shape))\n",
    "# normalize the data\n",
    "X /= 255"
   ]
  },
  {
   "cell_type": "code",
   "execution_count": 3,
   "metadata": {},
   "outputs": [],
   "source": [
    "# train/test split\n",
    "X_train, X_test, y_train, y_test = train_test_split(X, y, test_size=0.1, random_state=17)"
   ]
  },
  {
   "cell_type": "markdown",
   "metadata": {},
   "source": [
    "Fit on training data with 3 hidden layers of size 40"
   ]
  },
  {
   "cell_type": "code",
   "execution_count": 4,
   "metadata": {},
   "outputs": [
    {
     "name": "stdout",
     "output_type": "stream",
     "text": [
      "Fitting time: 53.2 seconds\n"
     ]
    }
   ],
   "source": [
    "model = MLPClassifier(solver='adam', alpha=1e-5, hidden_layer_sizes=(40, 40, 40), random_state=17)\n",
    "start = time.time()\n",
    "model.fit(X_train,y_train)\n",
    "end = time.time()\n",
    "print(\"Fitting time: %.1f seconds\" % (end-start))"
   ]
  },
  {
   "cell_type": "code",
   "execution_count": 5,
   "metadata": {},
   "outputs": [
    {
     "name": "stdout",
     "output_type": "stream",
     "text": [
      "Accuracy: 0.9680\n"
     ]
    }
   ],
   "source": [
    "print(\"Accuracy: %.4f\" % model.score(X_test, y_test))"
   ]
  },
  {
   "cell_type": "markdown",
   "metadata": {},
   "source": [
    "Find the number of dims needed to keep 91% of the explained variance"
   ]
  },
  {
   "cell_type": "code",
   "execution_count": 6,
   "metadata": {},
   "outputs": [
    {
     "name": "stdout",
     "output_type": "stream",
     "text": [
      "n_components chosen: 96\n"
     ]
    }
   ],
   "source": [
    "pca = PCA()\n",
    "pca.fit(X_train)\n",
    "cumsum = np.cumsum(pca.explained_variance_ratio_)\n",
    "new_dims = np.argmax(cumsum >= 0.91) + 1\n",
    "print(\"n_components chosen: \" + str(new_dims))"
   ]
  },
  {
   "cell_type": "markdown",
   "metadata": {},
   "source": [
    "Transform the data to 96 dims"
   ]
  },
  {
   "cell_type": "code",
   "execution_count": 7,
   "metadata": {},
   "outputs": [
    {
     "name": "stdout",
     "output_type": "stream",
     "text": [
      "X_train_reduced.shape: (63000, 96)\n"
     ]
    }
   ],
   "source": [
    "pca = PCA(n_components=new_dims)\n",
    "X_train_reduced = pca.fit_transform(X_train)\n",
    "X_recovered = pca.inverse_transform(X_train_reduced)\n",
    "X_test_reduced = pca.transform(X_test)\n",
    "print(\"X_train_reduced.shape: \" + str(X_train_reduced.shape))"
   ]
  },
  {
   "cell_type": "markdown",
   "metadata": {},
   "source": [
    "Visualization of the PCA-compressed data"
   ]
  },
  {
   "cell_type": "code",
   "execution_count": 8,
   "metadata": {},
   "outputs": [
    {
     "data": {
      "image/png": "[encoded data removed]",
      "text/plain": [
       "<Figure size 432x288 with 2 Axes>"
      ]
     },
     "metadata": {
      "needs_background": "light"
     },
     "output_type": "display_data"
    }
   ],
   "source": [
    "f = plt.figure()\n",
    "f.add_subplot(1,2, 1)\n",
    "plt.title(\"original\")\n",
    "plt.imshow(X_train[0].reshape((28,28)), cmap='Greys')\n",
    "f.add_subplot(1,2, 2)\n",
    "\n",
    "plt.title(\"PCA-compressed\")\n",
    "plt.imshow(X_recovered[0].reshape((28,28)), cmap='Greys')\n",
    "plt.show(block=True)"
   ]
  },
  {
   "cell_type": "markdown",
   "metadata": {},
   "source": [
    "Fit on reduced training data with 3 hidden layers of size 70"
   ]
  },
  {
   "cell_type": "code",
   "execution_count": 9,
   "metadata": {},
   "outputs": [
    {
     "name": "stdout",
     "output_type": "stream",
     "text": [
      "Fitting time: 19.5 seconds\n"
     ]
    }
   ],
   "source": [
    "model_red = MLPClassifier(solver='adam', alpha=1e-5, hidden_layer_sizes=(70, 70, 70), random_state=17)\n",
    "start = time.time()\n",
    "model_red.fit(X_train_reduced,y_train)\n",
    "end = time.time()\n",
    "print(\"Fitting time: %.1f seconds\" % (end-start))"
   ]
  },
  {
   "cell_type": "code",
   "execution_count": 10,
   "metadata": {},
   "outputs": [
    {
     "name": "stdout",
     "output_type": "stream",
     "text": [
      "Accuracy: 0.9753\n"
     ]
    }
   ],
   "source": [
    "print(\"Accuracy: %.4f\" % model_red.score(X_test_reduced, y_test))"
   ]
  },
  {
   "cell_type": "code",
   "execution_count": null,
   "metadata": {},
   "outputs": [],
   "source": []
  }
 ],
 "metadata": {
  "kernelspec": {
   "display_name": "TensorFlow-GPU",
   "language": "python",
   "name": "tensorflow_gpu_ml"
  },
  "language_info": {
   "codemirror_mode": {
    "name": "ipython",
    "version": 3
   },
   "file_extension": ".py",
   "mimetype": "text/x-python",
   "name": "python",
   "nbconvert_exporter": "python",
   "pygments_lexer": "ipython3",
   "version": "3.7.4"
  }
 },
 "nbformat": 4,
 "nbformat_minor": 2
}
